{
 "cells": [
  {
   "cell_type": "markdown",
   "metadata": {},
   "source": [
    "##### This analysis is to explore and investigate the  xxxxx\n",
    "#### The main visualisation feature used is xxxxxx\n"
   ]
  },
  {
   "cell_type": "code",
   "execution_count": 1,
   "metadata": {},
   "outputs": [],
   "source": [
    "# ========= Import the packages =========\n",
    "\n",
    "import pandas as pd\n",
    "import matplotlib.pyplot as plt\n",
    "import seaborn as sns"
   ]
  },
  {
   "cell_type": "code",
   "execution_count": null,
   "metadata": {},
   "outputs": [],
   "source": [
    "# ========= Getting Data =========\n",
    "\n",
    "## Suggest to name the variable with the understandable naming \n",
    "## Encourage to use snake case style example 'my_new_dataframe'\n",
    "suicide_rate_data = pd.read_csv('../.../suiciderate.csv')\n",
    "hr_data = pd.read_csv('../.../hr.csv')"
   ]
  },
  {
   "cell_type": "code",
   "execution_count": null,
   "metadata": {},
   "outputs": [],
   "source": [
    "# ========= Prepare Data =========\n",
    "# This block is to perform data preparation such as type checking, data type conversion if require any\n",
    "# For code consistency purpose, you are encouraged to use single quote\n",
    "\n",
    "\n",
    "# Write some comments here why you are doing this\n",
    "suicide_rate_data['total'] = suicide_rate_data['a'] + suicide_rate_data['b']\n",
    "\n",
    "\n",
    "\n",
    "\n",
    "\n",
    "# Write some comments here why you are doing this\n",
    "hr_data = hr_data[['col1', 'col2']]\n",
    "\n",
    "\n",
    "\n",
    "\n",
    "\n",
    "# Write some comments here why you are doing this\n",
    "merged_data = pd.merge(suicide_rate_data, hr_data, on='xxxx', how='inner')"
   ]
  },
  {
   "cell_type": "code",
   "execution_count": null,
   "metadata": {},
   "outputs": [],
   "source": [
    "# ========= plotting graph =========\n",
    "# This plot to visualise xxxxxxx\n",
    "\n",
    "## Sample Dummpy Code\n",
    "plot_top5_country = sns.barplot()\n",
    "plt.title('xxxxx')\n",
    "plt.ylabel('xxxx')\n",
    "plt.show()\n"
   ]
  }
 ],
 "metadata": {
  "kernelspec": {
   "display_name": "Python 3",
   "language": "python",
   "name": "python3"
  },
  "language_info": {
   "codemirror_mode": {
    "name": "ipython",
    "version": 3
   },
   "file_extension": ".py",
   "mimetype": "text/x-python",
   "name": "python",
   "nbconvert_exporter": "python",
   "pygments_lexer": "ipython3",
   "version": "3.6.9"
  }
 },
 "nbformat": 4,
 "nbformat_minor": 2
}
