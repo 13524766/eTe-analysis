{
 "cells": [
  {
   "cell_type": "code",
   "execution_count": 1,
   "metadata": {},
   "outputs": [],
   "source": [
    "# This code is to analysise the male and female comparison in top 5 countries with hight suicide rates\n",
    "# catplot (for categorical data) from Seaborn library is used for visualisation \n",
    "\n",
    "import os\n",
    "import pandas as pd\n",
    "import matplotlib.pyplot as plt\n",
    "import numpy as np\n",
    "import seaborn as sns"
   ]
  },
  {
   "cell_type": "code",
   "execution_count": 2,
   "metadata": {},
   "outputs": [
    {
     "name": "stdout",
     "output_type": "stream",
     "text": [
      "       Country         Sex  80_above  70to79  60to69  50to59  40to49  30to39  \\\n",
      "0  Afghanistan  Both sexes      42.0    11.0     5.5     5.6     6.6     9.2   \n",
      "1  Afghanistan        Male      70.4    20.9     9.8     9.3    10.5    15.1   \n",
      "2  Afghanistan      Female      20.1     2.3     1.4     1.6     2.3     2.7   \n",
      "3      Albania  Both sexes      16.3     8.3     6.0     7.8     9.1     6.1   \n",
      "4      Albania        Male      23.2    11.9     8.1    11.4    13.5     8.8   \n",
      "\n",
      "   20to29  10to19  all_age  \n",
      "0    10.2     3.1     64.1  \n",
      "1    16.3     4.8    110.4  \n",
      "2     3.5     1.2     25.4  \n",
      "3     6.5     5.0     38.4  \n",
      "4     6.3     3.1     54.6  \n"
     ]
    }
   ],
   "source": [
    "\n",
    "# Getting Data of crude suicide rate\n",
    "suicide_rate_data_filepath = os.path.join(\"..\",\"..\",\"processed_data\", \"crude_suicide_rates.csv\")\n",
    "suicide_rate_dataframe = pd.read_csv(suicide_rate_data_filepath, index_col=0)\n",
    "#print(human_resource_dataframe.head())\n",
    "\n",
    "# Calculate the total suicide rate of all different ages\n",
    "suicide_rate_dataframe['all_age'] = suicide_rate_dataframe['80_above']+ suicide_rate_dataframe['70to79'] + suicide_rate_dataframe['60to69']+ suicide_rate_dataframe['50to59']\n",
    "+ suicide_rate_dataframe['40to49']+ suicide_rate_dataframe['30to39']+ suicide_rate_dataframe['20to29'] + suicide_rate_dataframe['10to19']\n",
    "print(suicide_rate_dataframe.head())"
   ]
  },
  {
   "cell_type": "code",
   "execution_count": 3,
   "metadata": {},
   "outputs": [],
   "source": [
    "# Do Melting - Tranform/Combine the multiple  column names of different age groups into one column \"Age\"\n",
    "suicide_rate_pivot_longer_df = pd.melt(suicide_rate_dataframe, id_vars=['Country', 'Sex'], value_vars=['80_above','70to79', '40to49', '30to39', '20to29', '10to19', 'all_age'], var_name='Age',value_name='Suicide_rate')\n",
    "#print(suicide_rate_pivot_longer_df)\n",
    "\n",
    "# Find Top 5 countries of highest suicide rate in 'all_age' and \"both sexes\"\n",
    "# And Male/ Female - Age distribution \n",
    "top_5_suicide_rate_bothsex = suicide_rate_pivot_longer_df[(suicide_rate_pivot_longer_df['Sex'] == 'Both sexes' ) & (suicide_rate_pivot_longer_df['Age'] == 'all_age' )].nlargest(5, 'Suicide_rate')\n",
    "suicide_rate_separatesex = suicide_rate_pivot_longer_df[suicide_rate_pivot_longer_df['Sex'] != 'Both sexes']"
   ]
  },
  {
   "cell_type": "code",
   "execution_count": 5,
   "metadata": {},
   "outputs": [
    {
     "name": "stdout",
     "output_type": "stream",
     "text": [
      "['Lesotho', 'Zimbabwe', 'Uganda', \"Côte d'Ivoire\", 'Nigeria']\n"
     ]
    },
    {
     "data": {
      "image/png": "[encoded data removed]",
      "text/plain": [
       "<Figure size 429.375x360 with 1 Axes>"
      ]
     },
     "metadata": {},
     "output_type": "display_data"
    }
   ],
   "source": [
    "## Get the countries names of top 5 highest suicide rate\n",
    "print(top_5_suicide_rate_bothsex['Country'].to_list())\n",
    "top_10_country_names = top_5_suicide_rate_bothsex['Country'].to_list()\n",
    "## Filtering out Male/Female records belongs to the hightest country.\n",
    "final = suicide_rate_separatesex[suicide_rate_separatesex['Country'].isin(top_10_country_names)]\n",
    "#print(\"final\",final.head())\n",
    "\n",
    "### Plotting \n",
    "sns.set_style(\"whitegrid\")\n",
    "gg = sns.catplot(data = final, kind=\"bar\", x=\"Country\", y=\"Suicide_rate\",hue=\"Sex\", palette=\"husl\", alpha=.9, height=5, ci=None)\n",
    "gg.despine(left=True).set_ylabels(\"Suicide rate\")\n",
    "plt.title(\"Top 5 Countries with Highest Suicide Rate\")\n",
    "plt.show()"
   ]
  },
  {
   "cell_type": "code",
   "execution_count": null,
   "metadata": {},
   "outputs": [],
   "source": []
  }
 ],
 "metadata": {
  "kernelspec": {
   "display_name": "Python 3",
   "language": "python",
   "name": "python3"
  },
  "language_info": {
   "codemirror_mode": {
    "name": "ipython",
    "version": 3
   },
   "file_extension": ".py",
   "mimetype": "text/x-python",
   "name": "python",
   "nbconvert_exporter": "python",
   "pygments_lexer": "ipython3",
   "version": "3.6.9"
  }
 },
 "nbformat": 4,
 "nbformat_minor": 2
}
