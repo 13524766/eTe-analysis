{
 "cells": [
  {
   "cell_type": "code",
   "execution_count": 1,
   "metadata": {},
   "outputs": [
    {
     "name": "stdout",
     "output_type": "stream",
     "text": [
      "/Users/reba/MDSI/94692_DSP/AT2/eTe-analysis/analysis\n"
     ]
    },
    {
     "ename": "ModuleNotFoundError",
     "evalue": "No module named 'common_lib'",
     "output_type": "error",
     "traceback": [
      "\u001b[0;31m---------------------------------------------------------------------------\u001b[0m",
      "\u001b[0;31mModuleNotFoundError\u001b[0m                       Traceback (most recent call last)",
      "\u001b[0;32m<ipython-input-1-74ed6c68d174>\u001b[0m in \u001b[0;36m<module>\u001b[0;34m\u001b[0m\n\u001b[1;32m      9\u001b[0m \u001b[0;32mimport\u001b[0m \u001b[0msys\u001b[0m\u001b[0;34m\u001b[0m\u001b[0;34m\u001b[0m\u001b[0m\n\u001b[1;32m     10\u001b[0m \u001b[0mprint\u001b[0m\u001b[0;34m(\u001b[0m\u001b[0mos\u001b[0m\u001b[0;34m.\u001b[0m\u001b[0mpath\u001b[0m\u001b[0;34m.\u001b[0m\u001b[0mabspath\u001b[0m\u001b[0;34m(\u001b[0m\u001b[0;34m'..'\u001b[0m\u001b[0;34m)\u001b[0m\u001b[0;34m)\u001b[0m\u001b[0;34m\u001b[0m\u001b[0;34m\u001b[0m\u001b[0m\n\u001b[0;32m---> 11\u001b[0;31m \u001b[0;32mfrom\u001b[0m \u001b[0mcommon_lib\u001b[0m\u001b[0;34m.\u001b[0m\u001b[0mdata_reader\u001b[0m \u001b[0;32mimport\u001b[0m \u001b[0mSuicideDataReader\u001b[0m\u001b[0;34m,\u001b[0m \u001b[0mSuicideRawData\u001b[0m\u001b[0;34m,\u001b[0m \u001b[0mSuicideProcessedData\u001b[0m\u001b[0;34m\u001b[0m\u001b[0;34m\u001b[0m\u001b[0m\n\u001b[0m",
      "\u001b[0;31mModuleNotFoundError\u001b[0m: No module named 'common_lib'"
     ]
    }
   ],
   "source": [
    "# This file focus on the analyzing the top suicide rate of different countries\n",
    "# 1. Find out the top 5 countries with highest youth suicide rate \n",
    "\n",
    "import os\n",
    "import math\n",
    "import pandas as pd\n",
    "import matplotlib.pyplot as plt\n",
    "\n",
    "import sys\n",
    "sys.path.append(os.path.abspath('..'))\n",
    "from common_lib.data_reader import SuicideDataReader, SuicideRawData, SuicideProcessedData"
   ]
  },
  {
   "cell_type": "code",
   "execution_count": null,
   "metadata": {},
   "outputs": [],
   "source": [
    "# ========= Getting Data =========\n",
    "\n",
    "data_reader = SuicideDataReader()\n",
    "\n",
    "suicide_rates_dataframe = data_reader.read_data(SuicideProcessedData.SUICIDE_RATES)\n",
    "print(suicide_rates_dataframe)\n",
    "\n",
    "country_facilities_dataframe = data_reader.read_data(SuicideProcessedData.FACILITIES)\n",
    "print(country_facilities_dataframe)"
   ]
  },
  {
   "cell_type": "code",
   "execution_count": null,
   "metadata": {},
   "outputs": [],
   "source": [
    "# ========= Prepare Data =========\n",
    "# join country facilities to suicde rate data\n",
    "suicide_rates_facilities_dataframe = suicide_rates_dataframe.merge(country_facilities_dataframe, how=\"left\", left_on=\"country\", right_on=\"country\")\n",
    "\n",
    "# Sorting and pick the first 5\n",
    "top_five_youth_suicide_rates_dataframe = suicide_rates_facilities_dataframe.sort_values(by=[\"10to19\"], ascending=False).head(5)\n",
    "\n",
    "# print the results\n",
    "print(top_five_youth_suicide_rates_dataframe)"
   ]
  },
  {
   "cell_type": "code",
   "execution_count": null,
   "metadata": {},
   "outputs": [],
   "source": [
    "# ========= plot graph =========\n",
    "top_suicide_rates_country_dataframe = suicide_rates_facilities_dataframe[suicide_rates_facilities_dataframe[\"10to19\"] > 10].sort_values(by=[\"10to19\"], ascending=False)\n",
    "\n",
    "# top suicide rate plot\n",
    "plt.figure(figsize=(20,10))\n",
    "plt.bar(top_suicide_rates_country_dataframe[\"country\"], top_suicide_rates_country_dataframe[\"10to19\"])\n",
    "plt.title(\"Top five suicide rate countries\")\n",
    "plt.xlabel(\"Country\")\n",
    "plt.ylabel(\"Suicide Rate (%)\")\n",
    "plt.xticks(rotation=90)\n",
    "plt.show()"
   ]
  },
  {
   "cell_type": "code",
   "execution_count": null,
   "metadata": {},
   "outputs": [],
   "source": [
    "# plot the suicide rate vs different facilities for analysis\n",
    "ALL_SEX = top_suicide_rates_country_dataframe[\"sex\"].unique()\n",
    "ALL_AGE_RANGES = [\"80_above\", \"70to79\", \"60to69\", \"50to59\", \"40to49\", \"30to39\", \"20to29\", \"10to19\"]\n",
    "ALL_FACILITIES = [\"mental_hospitals\", \"health_units\", \"outpatient_facilities\", \"day_treatment\", \"residential_facilities\"]\n",
    "\n",
    "for sex in ALL_SEX:\n",
    "\tfor age_range in ALL_AGE_RANGES:\n",
    "\t\tplt.figure(figsize=(20,10))\n",
    "\t\tfig, axs = plt.subplots(nrows=2, ncols=3, constrained_layout=True)\n",
    "\t\tfig.figsize=(20,10)\n",
    "\t\tfacilities_index = 0\t# use for control the location of the plot\n",
    "\t\tfor facility in ALL_FACILITIES:\n",
    "\t\t\tx_index = math.floor(facilities_index / 3)\n",
    "\t\t\ty_index = facilities_index % 3\n",
    "\t\t\tsubplot = axs[x_index, y_index]\n",
    "\t\t\tsubplot.scatter(suicide_rates_facilities_dataframe[suicide_rates_facilities_dataframe[\"sex\"] == sex][age_range], suicide_rates_facilities_dataframe[suicide_rates_facilities_dataframe[\"sex\"] == sex][facility])\n",
    "\t\t\tsubplot.set_title(\"{0}\".format(facility))\n",
    "\t\t\t#subplot.xlabel(\"{0} {1} suicide Rate (%)\".format(sex, age_range))\n",
    "\t\t\t#subplot.ylabel(\"{0}\".format(facility))\n",
    "\t\t\tplt.suptitle(\"{0} {1} vs different facilities\".format(sex, age_range))\n",
    "\t\t\tfacilities_index = facilities_index + 1\n",
    "\n",
    "\t\tplt.show()"
   ]
  },
  {
   "cell_type": "code",
   "execution_count": null,
   "metadata": {},
   "outputs": [],
   "source": []
  }
 ],
 "metadata": {
  "kernelspec": {
   "display_name": "Python 3",
   "language": "python",
   "name": "python3"
  },
  "language_info": {
   "codemirror_mode": {
    "name": "ipython",
    "version": 3
   },
   "file_extension": ".py",
   "mimetype": "text/x-python",
   "name": "python",
   "nbconvert_exporter": "python",
   "pygments_lexer": "ipython3",
   "version": "3.7.4"
  }
 },
 "nbformat": 4,
 "nbformat_minor": 2
}
